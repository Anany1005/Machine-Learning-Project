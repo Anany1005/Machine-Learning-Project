{
 "cells": [
  {
   "cell_type": "code",
   "execution_count": 106,
   "id": "f0d5310c",
   "metadata": {},
   "outputs": [],
   "source": [
    "# Import necessary libraries\n",
    "import pandas as pd\n",
    "import numpy as np\n",
    "\n",
    "# Load the dataset from a CSV file\n",
    "data = pd.read_csv('data_banknote_authentication.csv')\n",
    "\n",
    "# Split the data into training and testing sets\n",
    "train_data = data.sample(frac=0.7)\n",
    "test_data = data.drop(train_data.index)\n",
    "\n",
    "# Convert DataFrames to NumPy arrays\n",
    "train_array = train_data.values\n",
    "test_array = test_data.values\n",
    "\n",
    "# Separate features and labels for training and testing sets\n",
    "features_train = train_array[:, 0:4]\n",
    "labels_train = train_array[:, -1]\n",
    "features_test = test_array[:, 0:4]\n",
    "labels_test = test_array[:, -1]\n"
   ]
  },
  {
   "cell_type": "code",
   "execution_count": 107,
   "id": "0f13cb44",
   "metadata": {},
   "outputs": [],
   "source": [
    "from collections import Counter\n",
    "\n",
    "def count_occurrences(lst):\n",
    "    return Counter(lst)\n",
    "\n",
    "def gini_index(regions, classes):\n",
    "    total_gini = 0\n",
    "\n",
    "    for region in regions:\n",
    "        region_labels = [point[-1] for point in region]\n",
    "        label_counts = count_occurrences(region_labels)\n",
    "        n = len(region_labels)\n",
    "\n",
    "        if n == 0:\n",
    "            continue\n",
    "\n",
    "        gini = 1\n",
    "        for class_label in classes:\n",
    "            class_count = label_counts.get(class_label, 0)\n",
    "            gini -= (class_count / n) ** 2\n",
    "\n",
    "        total_gini += n * gini\n",
    "\n",
    "    return total_gini"
   ]
  },
  {
   "cell_type": "code",
   "execution_count": 108,
   "id": "4ca7a736",
   "metadata": {},
   "outputs": [],
   "source": [
    "def split_at_root_node(feature_index, value, dataset):\n",
    "    dataset = np.array(dataset)\n",
    "    \n",
    "    mask = dataset[:, feature_index] > value\n",
    "    L = dataset[~mask]\n",
    "    R = dataset[mask]\n",
    "\n",
    "    return list(map(list, L)), list(map(list, R))"
   ]
  },
  {
   "cell_type": "code",
   "execution_count": 109,
   "id": "23087839",
   "metadata": {},
   "outputs": [],
   "source": [
    "def get_best_split(dataset):\n",
    "    # Find the different classes present in the dataset\n",
    "    classes = list(set(row[-1] for row in dataset))\n",
    "\n",
    "    # Initialize variables for the best split\n",
    "    best_split = {'index': None, 'value': None, 'gini_score': float('inf'), 'regions': None}\n",
    "\n",
    "    # Loop over each input feature index\n",
    "    for feature_index in range(len(dataset[0]) - 1):\n",
    "        # Extract unique values of the current feature\n",
    "        unique_values = set(row[feature_index] for row in dataset)\n",
    "\n",
    "        # Loop over each unique value of the current feature\n",
    "        for value in unique_values:\n",
    "            left, right = split_at_root_node(feature_index, value, dataset)\n",
    "            \n",
    "            # Calculate Gini index for this split\n",
    "            regions = [left, right]\n",
    "            gini_score = gini_index(regions, classes)\n",
    "\n",
    "            # Check if this split is better than the current best split\n",
    "            if gini_score < best_split['gini_score']:\n",
    "                best_split = {'index': feature_index, 'value': value, 'gini_score': gini_score, 'regions': regions}\n",
    "\n",
    "    # Return the best split\n",
    "    return best_split\n",
    "\n"
   ]
  },
  {
   "cell_type": "code",
   "execution_count": 110,
   "id": "323a20b1",
   "metadata": {},
   "outputs": [],
   "source": [
    "class TreeNode:\n",
    "    def __init__(self, index=None, value=None, is_leaf=False, outcome=None):\n",
    "        self.index = index\n",
    "        self.value = value\n",
    "        self.is_leaf = is_leaf\n",
    "        self.outcome = outcome\n",
    "        self.left = None\n",
    "        self.right = None\n",
    "\n",
    "def leaf_output(region):\n",
    "    if not region:\n",
    "        return None\n",
    "    \n",
    "    outcomes = [row[-1] for row in region]\n",
    "    \n",
    "    if not outcomes:\n",
    "        return None\n",
    "    \n",
    "    return max(set(outcomes), key=outcomes.count)\n",
    "\n",
    "def build_tree(train, max_depth, min_size):\n",
    "    root = create_node(train, max_depth, min_size, 1)\n",
    "    return root\n",
    "\n",
    "def create_node(dataset, max_depth, min_size, depth):\n",
    "    if depth >= max_depth or len(dataset) <= min_size:\n",
    "        return TreeNode(is_leaf=True, outcome=leaf_output(dataset))\n",
    "\n",
    "    best_split = get_best_split(dataset)\n",
    "    node = TreeNode(index=best_split['index'], value=best_split['value'])\n",
    "    \n",
    "    left, right = split_at_root_node(best_split['index'], best_split['value'], dataset)\n",
    "    node.left = create_node(left, max_depth, min_size, depth + 1)\n",
    "    node.right = create_node(right, max_depth, min_size, depth + 1)\n",
    "    \n",
    "    return node\n",
    "\n",
    "def print_tree(node, depth=0):\n",
    "    if node.is_leaf:\n",
    "        print('%s[%s]' % ((depth*' ', node.outcome)))\n",
    "    else:\n",
    "        print('%s[X%d < %.3f]' % ((depth*' ', (node.index + 1), node.value)))\n",
    "        print_tree(node.left, depth + 1)\n",
    "        print_tree(node.right, depth + 1)\n",
    "\n",
    "def predict(node, row):\n",
    "    if node.is_leaf:\n",
    "        return node.outcome\n",
    "    else:\n",
    "        if row[node.index] < node.value:\n",
    "            return predict(node.left, row)\n",
    "        else:\n",
    "            return predict(node.right, row)\n",
    "\n"
   ]
  },
  {
   "cell_type": "code",
   "execution_count": 111,
   "id": "f038c8d2",
   "metadata": {},
   "outputs": [],
   "source": [
    "data=np.array(train)\n",
    "tree = build_tree(data, 5, 10)"
   ]
  },
  {
   "cell_type": "code",
   "execution_count": 112,
   "id": "29afd988",
   "metadata": {},
   "outputs": [
    {
     "name": "stdout",
     "output_type": "stream",
     "text": [
      "[X1 < 0.301]\n",
      " [X2 < 7.122]\n",
      "  [X1 < -0.475]\n",
      "   [X3 < 6.716]\n",
      "    [1.0]\n",
      "    [1.0]\n",
      "   [X2 < 5.010]\n",
      "    [1.0]\n",
      "    [0.0]\n",
      "  [X1 < -4.478]\n",
      "   [X1 < -6.368]\n",
      "    [1.0]\n",
      "    [1.0]\n",
      "   [X1 < 0.300]\n",
      "    [0.0]\n",
      "    [None]\n",
      " [X3 < -4.404]\n",
      "  [X1 < 2.392]\n",
      "   [X1 < 0.895]\n",
      "    [1.0]\n",
      "    [1.0]\n",
      "   [0.0]\n",
      "  [X1 < 1.590]\n",
      "   [X3 < -1.786]\n",
      "    [1.0]\n",
      "    [0.0]\n",
      "   [X1 < 1.742]\n",
      "    [0.0]\n",
      "    [0.0]\n"
     ]
    }
   ],
   "source": [
    "print_tree(tree)"
   ]
  },
  {
   "cell_type": "code",
   "execution_count": 113,
   "id": "1b0747e8",
   "metadata": {},
   "outputs": [
    {
     "name": "stdout",
     "output_type": "stream",
     "text": [
      "Accuracy at training dataset:  94.58333333333333\n",
      "Accuracy at test dataset:  96.83698296836984\n"
     ]
    }
   ],
   "source": [
    "def calculate_accuracy(tree, X, y):\n",
    "    correct_predictions = sum(predict(tree, row) == label for row, label in zip(X, y))\n",
    "    accuracy = correct_predictions / len(X) * 100\n",
    "    return accuracy\n",
    "print(\"Accuracy at training dataset: \",accuracy(tree,features_train,labels_train))\n",
    "print(\"Accuracy at test dataset: \",accuracy(tree,features_test,labels_test)) "
   ]
  },
  {
   "cell_type": "code",
   "execution_count": null,
   "id": "90c6305e",
   "metadata": {},
   "outputs": [],
   "source": []
  }
 ],
 "metadata": {
  "kernelspec": {
   "display_name": "Python 3 (ipykernel)",
   "language": "python",
   "name": "python3"
  },
  "language_info": {
   "codemirror_mode": {
    "name": "ipython",
    "version": 3
   },
   "file_extension": ".py",
   "mimetype": "text/x-python",
   "name": "python",
   "nbconvert_exporter": "python",
   "pygments_lexer": "ipython3",
   "version": "3.9.18"
  }
 },
 "nbformat": 4,
 "nbformat_minor": 5
}
