{
 "cells": [
  {
   "cell_type": "code",
   "execution_count": 34,
   "id": "06882c13",
   "metadata": {},
   "outputs": [],
   "source": [
    "from scipy.io import loadmat\n",
    "import numpy as np"
   ]
  },
  {
   "cell_type": "code",
   "execution_count": 35,
   "id": "24c591d2",
   "metadata": {},
   "outputs": [],
   "source": [
    "from math import sqrt\n",
    "def euc_distance(x,y): #euclidean distance\n",
    "    return np.sqrt(np.sum(np.square(x-y)))"
   ]
  },
  {
   "cell_type": "code",
   "execution_count": 36,
   "id": "e3ca5a78",
   "metadata": {},
   "outputs": [],
   "source": [
    "mnist = loadmat(\"mnistData.mat\")\n",
    "data = mnist['mnist']\n",
    "X_train,y_train,X_test,y_test = data[0][0][0],data[0][0][2],data[0][0][1],data[0][0][3]\n",
    "X_train=np.transpose(X_train, (2,0,1))\n",
    "X_test=np.transpose(X_test, (2,0,1))"
   ]
  },
  {
   "cell_type": "code",
   "execution_count": 37,
   "id": "b5be778e",
   "metadata": {},
   "outputs": [],
   "source": [
    "X_train=X_train.reshape(60000,784)\n",
    "X_test=X_test.reshape(10000,784)\n",
    "\n",
    "permuted_columns = np.random.permutation(X_train.shape[1])\n",
    "\n",
    "# Use the same permutation to shuffle the columns of both X_train and X_test\n",
    "X_train = X_train[:, permuted_columns]\n",
    "X_test = X_test[:, permuted_columns]\n"
   ]
  },
  {
   "cell_type": "code",
   "execution_count": 38,
   "id": "1d815d20",
   "metadata": {},
   "outputs": [],
   "source": [
    "# Locate the most similar neighbors -- my code\n",
    "def get_neighbors(train, test_row,y_train,num_neighbors):\n",
    "    sorted_arr = []\n",
    "    neighbors = []\n",
    "    t=0\n",
    "\n",
    "    for i in train:\n",
    "\n",
    "        distance = euc_distance(i,test_row)\n",
    "        sorted_arr.append((distance,y_train[t]))\n",
    "        t=t+1\n",
    "\n",
    "    sorted_arr.sort()\n",
    "\n",
    "    for i in range(num_neighbors):\n",
    "        neighbors.append(sorted_arr[i][1])\n",
    "\n",
    "    return neighbors"
   ]
  },
  {
   "cell_type": "code",
   "execution_count": 39,
   "id": "51e49566",
   "metadata": {},
   "outputs": [],
   "source": [
    "# Make a class prediction with neighbors\n",
    "def predict_class(train, test_row,y_train ,num_neighbors):\n",
    "    an=[]\n",
    "    \n",
    "    for j in test_row:\n",
    "        neighbors = get_neighbors(train, j,y_train,num_neighbors)\n",
    "        output_values = []\n",
    "        for i in neighbors:\n",
    "            output_values.append(i)\n",
    "\n",
    "        prediction = max(output_values)\n",
    "        an.append(prediction)\n",
    "    return an"
   ]
  },
  {
   "cell_type": "code",
   "execution_count": 40,
   "id": "85ac7a0e",
   "metadata": {},
   "outputs": [],
   "source": [
    "def accuracy(x,y,x_train,y_train,k):\n",
    "    c=0\n",
    "    n=len(y)\n",
    "    ty=predict_class(x_train,x,y_train,k)\n",
    "    for i in range(n):\n",
    "        if ty[i]==y[i]:\n",
    "            c=c+1\n",
    "    return c/n\n",
    "# print(\"misclassification rate\",1-accuracy(x,y,x_train,y_train,k))\n"
   ]
  },
  {
   "cell_type": "code",
   "execution_count": 41,
   "id": "8a6b8ede-52a8-4bc4-b3ea-7c59847045d7",
   "metadata": {},
   "outputs": [],
   "source": [
    "def min_max_scale(X):\n",
    "    min_vals = np.min(X)\n",
    "    max_vals = np.max(X)\n",
    "    scaled_X = (X - min_vals) / (max_vals - min_vals)\n",
    "    return scaled_X\n",
    "\n",
    "X_train = min_max_scale(X_train)\n",
    "X_test = min_max_scale(X_test)"
   ]
  },
  {
   "cell_type": "code",
   "execution_count": 42,
   "id": "98c0f583",
   "metadata": {},
   "outputs": [],
   "source": [
    "pred1=predict_class(X_train,X_test,y_train,1)\n",
    "acu1=accuracy(X_test,y_test,X_train,y_train,1)"
   ]
  },
  {
   "cell_type": "code",
   "execution_count": 43,
   "id": "cf2eea90",
   "metadata": {},
   "outputs": [],
   "source": [
    "print(\"accuracy for k=1: \",acu1)\n",
    "print(\"misclassificationrate for k=1: \",1-acu1)"
   ]
  },
  {
   "cell_type": "code",
   "execution_count": 44,
   "id": "cc73dfb9-38c4-4c0a-8d4d-34e159fd85ec",
   "metadata": {},
   "outputs": [],
   "source": [
    "pred3=predict_class(X_train,X_test,y_train,3)\n",
    "acu3=accuracy(X_test,y_test,X_train,y_train,3)"
   ]
  },
  {
   "cell_type": "code",
   "execution_count": 45,
   "id": "fe15a0c9-3b0b-4588-8f3d-0c9e4ccb9270",
   "metadata": {},
   "outputs": [
    {
     "name": "stdout",
     "output_type": "stream",
     "text": [
      "accuracy for k=3:  1.0\n",
      "misclassificationrate for k=3:  0.0\n"
     ]
    }
   ],
   "source": [
    "print(\"accuracy for k=3: \",acu3)\n",
    "print(\"misclassificationrate for k=3: \",1-acu3)"
   ]
  },
  {
   "cell_type": "code",
   "execution_count": null,
   "id": "63061916-c298-4849-bf21-27c7283dab9d",
   "metadata": {},
   "outputs": [],
   "source": [
    "# so by permuting column misclassifi is not changed"
   ]
  }
 ],
 "metadata": {
  "kernelspec": {
   "display_name": "Python 3 (ipykernel)",
   "language": "python",
   "name": "python3"
  },
  "language_info": {
   "codemirror_mode": {
    "name": "ipython",
    "version": 3
   },
   "file_extension": ".py",
   "mimetype": "text/x-python",
   "name": "python",
   "nbconvert_exporter": "python",
   "pygments_lexer": "ipython3",
   "version": "3.9.18"
  }
 },
 "nbformat": 4,
 "nbformat_minor": 5
}
